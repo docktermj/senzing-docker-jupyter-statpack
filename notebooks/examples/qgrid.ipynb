{
 "cells": [
  {
   "cell_type": "markdown",
   "metadata": {},
   "source": [
    "qgrid - An interactive grid for viewing and editing pandas DataFrames\n",
    "=======================================================\n",
    "Qgrid is an Jupyter notebook widget which uses a javascript library called SlickGrid to render pandas DataFrames within a Jupyter notebook. It was developed for use in [Quantopian's hosted research environment]( https://www.quantopian.com/research?utm_source=github&utm_medium=web&utm_campaign=qgrid-nbviewer).\n",
    "\n",
    "The purpose of this notebook is to give an overview of what qgrid is capable of. Execute the cells below to generate some qgrids using a diverse set of DataFrames."
   ]
  },
  {
   "cell_type": "markdown",
   "metadata": {},
   "source": [
    "## Overview\n",
    "* [SlickGrid](https://github.com/mleibman/SlickGrid) is a javascript grid which allows users to scroll, sort, \n",
    "and filter hundreds of thousands of rows with extreme responsiveness.  \n",
    "* [Pandas](https://github.com/pydata/pandas) is a powerful data analysis / manipulation library for Python, and DataFrames are the primary way of storing and manipulating two-dimensional data in pandas.\n",
    "\n",
    "[Qgrid](https://github.com/quantopian/qgrid) renders pandas DataFrames as SlickGrids, which enables users to explore the entire contents of a DataFrame using intuitive sorting and filtering controls.  It's built on the ipywidget framework and is designed to be used in Jupyter notebook, Jupyterhub, or Jupyterlab"
   ]
  },
  {
   "cell_type": "markdown",
   "metadata": {},
   "source": [
    "## What's new\n",
    "\n",
    "#### Column options and new \"live-updating\" API methods - as of 1.1.0\n",
    "* Column options can be provided via the `show_grid` method. Options can be provided for all columns via the `column_options` parameter, and for individual columns via the `column_definitions` parameter.\n",
    "* Added `edit_cell`, `change_selection`, `toggle_editable` methods for updating the state of an existing grid widget without having to call `show_grid`.\n",
    "* Updated the `add_row` method so that the caller can specify the values for the new row via the `row` parameter. This will allow people to add rows to a qgrid instance even if it's showing a DataFrame that doesn't have an integer index.\n",
    "* Updated the `remove_row` method so that the indices of the rows to remove can optionally be provided via the `rows` parameter.\n",
    "* Fixed issue where moving the scroll bar around a bunch of times quickly can cause a series of grid refreshes to occur.\n",
    "\n",
    "#### Multi-index support - as of 1.0.6-beta.6\n",
    "* Improves support for viewing DataFrames with a MultiIndex.\n",
    "* Cells are merged vertically (similar to how pandas does it) to make it easier to identify the levels of the index.\n",
    "* Sorting or grouping any column other than level 0 of the multi-index results in the DataFrame returning to it's       normal behavior of never merging cells vertically.\n",
    "* Column header is hidden for unnamed levels of the index (instead of showing \"level_0\", \"level_1\", etc)\n",
    "\n",
    "#### Events API - as of 1.0.3:\n",
    "* Added the ability to listen for events on all QgridWidget instances (using `qgrid.on`) as well as on individual instances (using `QgridWidget.on`).\n",
    "* **Breaking API Change:** Previously the recommended (but not officially documented) way of attaching event handlers to a QgridWidget instance was to listen for changes to the ``_df`` attribute using the ``observe`` method (i.e.``qgrid_widget.observe(handle_df_changed, names=['_df'])``). This method will no longer work for most events (scrolling, sorting, filtering, etc) so the new ``QgridWidget.on`` method should be used instead."
   ]
  },
  {
   "cell_type": "markdown",
   "metadata": {},
   "source": [
    "## API & Usage\n",
    "API documentation is hosted on [readthedocs](http://qgrid.readthedocs.io/en/widget-guidelines/). \n",
    "\n",
    "The API documentation can also be accessed via the \"?\" operator in IPython.  To use the \"?\" operator, type the name of the function followed by \"?\" to see the documentation for that function, like this:\n",
    "```\n",
    "qgrid.show_grid?\n",
    "qgrid.set_defaults?\n",
    "qgrid.set_grid_options?\n",
    "qgrid.enable?\n",
    "qgrid.disable?\n",
    "\n",
    "```"
   ]
  },
  {
   "cell_type": "markdown",
   "metadata": {},
   "source": [
    "## Example 1 - Render a DataFrame with many different types of columns"
   ]
  },
  {
   "cell_type": "code",
   "execution_count": 1,
   "metadata": {},
   "outputs": [
    {
     "data": {
      "application/vnd.jupyter.widget-view+json": {
       "model_id": "22a6f4d2b4a04ea28e918cfe8a01fb4e",
       "version_major": 2,
       "version_minor": 0
      },
      "text/plain": [
       "UWdyaWRXaWRnZXQoZ3JpZF9vcHRpb25zPXsnaGlnaGxpZ2h0U2VsZWN0ZWRSb3cnOiBUcnVlLCAnZnVsbFdpZHRoUm93cyc6IFRydWUsICdyb3dIZWlnaHQnOiAyOCwgJ2VuYWJsZUNvbHVtblLigKY=\n"
      ]
     },
     "metadata": {},
     "output_type": "display_data"
    }
   ],
   "source": [
    "import numpy as np\n",
    "import pandas as pd\n",
    "import qgrid\n",
    "randn = np.random.randn\n",
    "df_types = pd.DataFrame({\n",
    "    'A' : pd.Series(['2013-01-01', '2013-01-02', '2013-01-03', '2013-01-04',\n",
    "               '2013-01-05', '2013-01-06', '2013-01-07', '2013-01-08', '2013-01-09'],index=list(range(9)),dtype='datetime64[ns]'),\n",
    "    'B' : pd.Series(randn(9),index=list(range(9)),dtype='float32'),\n",
    "    'C' : pd.Categorical([\"washington\", \"adams\", \"washington\", \"madison\", \"lincoln\",\"jefferson\", \"hamilton\", \"roosevelt\", \"kennedy\"]),\n",
    "    'D' : [\"foo\", \"bar\", \"buzz\", \"bippity\",\"boppity\", \"foo\", \"foo\", \"bar\", \"zoo\"] })\n",
    "df_types['E'] = df_types['D'] == 'foo'\n",
    "qgrid_widget = qgrid.show_grid(df_types, show_toolbar=True)\n",
    "qgrid_widget"
   ]
  },
  {
   "cell_type": "markdown",
   "metadata": {},
   "source": [
    "If you make any sorting/filtering changes, or edit the grid by double clicking, you can retrieve a copy of your DataFrame which reflects these changes by calling `get_changed_df` on the `QgridWidget` instance returned by `show_grid`."
   ]
  },
  {
   "cell_type": "code",
   "execution_count": 2,
   "metadata": {
    "scrolled": true
   },
   "outputs": [
    {
     "data": {
      "text/html": [
       "<div>\n",
       "<style scoped>\n",
       "    .dataframe tbody tr th:only-of-type {\n",
       "        vertical-align: middle;\n",
       "    }\n",
       "\n",
       "    .dataframe tbody tr th {\n",
       "        vertical-align: top;\n",
       "    }\n",
       "\n",
       "    .dataframe thead th {\n",
       "        text-align: right;\n",
       "    }\n",
       "</style>\n",
       "<table border=\"1\" class=\"dataframe\">\n",
       "  <thead>\n",
       "    <tr style=\"text-align: right;\">\n",
       "      <th></th>\n",
       "      <th>A</th>\n",
       "      <th>B</th>\n",
       "      <th>C</th>\n",
       "      <th>D</th>\n",
       "      <th>E</th>\n",
       "    </tr>\n",
       "  </thead>\n",
       "  <tbody>\n",
       "    <tr>\n",
       "      <th>0</th>\n",
       "      <td>2013-01-01</td>\n",
       "      <td>-1.105872</td>\n",
       "      <td>washington</td>\n",
       "      <td>foo</td>\n",
       "      <td>True</td>\n",
       "    </tr>\n",
       "    <tr>\n",
       "      <th>1</th>\n",
       "      <td>2013-01-02</td>\n",
       "      <td>-0.693987</td>\n",
       "      <td>adams</td>\n",
       "      <td>bar</td>\n",
       "      <td>False</td>\n",
       "    </tr>\n",
       "    <tr>\n",
       "      <th>2</th>\n",
       "      <td>2013-01-03</td>\n",
       "      <td>0.508499</td>\n",
       "      <td>washington</td>\n",
       "      <td>buzz</td>\n",
       "      <td>False</td>\n",
       "    </tr>\n",
       "    <tr>\n",
       "      <th>3</th>\n",
       "      <td>2013-01-04</td>\n",
       "      <td>-0.727425</td>\n",
       "      <td>madison</td>\n",
       "      <td>bippity</td>\n",
       "      <td>False</td>\n",
       "    </tr>\n",
       "    <tr>\n",
       "      <th>4</th>\n",
       "      <td>2013-01-05</td>\n",
       "      <td>1.315462</td>\n",
       "      <td>lincoln</td>\n",
       "      <td>boppity</td>\n",
       "      <td>False</td>\n",
       "    </tr>\n",
       "    <tr>\n",
       "      <th>5</th>\n",
       "      <td>2013-01-06</td>\n",
       "      <td>1.354170</td>\n",
       "      <td>jefferson</td>\n",
       "      <td>foo</td>\n",
       "      <td>True</td>\n",
       "    </tr>\n",
       "    <tr>\n",
       "      <th>6</th>\n",
       "      <td>2013-01-07</td>\n",
       "      <td>3.040954</td>\n",
       "      <td>hamilton</td>\n",
       "      <td>foo</td>\n",
       "      <td>True</td>\n",
       "    </tr>\n",
       "    <tr>\n",
       "      <th>7</th>\n",
       "      <td>2013-01-08</td>\n",
       "      <td>-0.444193</td>\n",
       "      <td>roosevelt</td>\n",
       "      <td>bar</td>\n",
       "      <td>False</td>\n",
       "    </tr>\n",
       "    <tr>\n",
       "      <th>8</th>\n",
       "      <td>2013-01-09</td>\n",
       "      <td>0.633953</td>\n",
       "      <td>kennedy</td>\n",
       "      <td>zoo</td>\n",
       "      <td>False</td>\n",
       "    </tr>\n",
       "  </tbody>\n",
       "</table>\n",
       "</div>"
      ],
      "text/plain": [
       "           A         B           C        D      E\n",
       "0 2013-01-01 -1.105872  washington      foo   True\n",
       "1 2013-01-02 -0.693987       adams      bar  False\n",
       "2 2013-01-03  0.508499  washington     buzz  False\n",
       "3 2013-01-04 -0.727425     madison  bippity  False\n",
       "4 2013-01-05  1.315462     lincoln  boppity  False\n",
       "5 2013-01-06  1.354170   jefferson      foo   True\n",
       "6 2013-01-07  3.040954    hamilton      foo   True\n",
       "7 2013-01-08 -0.444193   roosevelt      bar  False\n",
       "8 2013-01-09  0.633953     kennedy      zoo  False"
      ]
     },
     "execution_count": 2,
     "metadata": {},
     "output_type": "execute_result"
    }
   ],
   "source": [
    "qgrid_widget.get_changed_df()"
   ]
  },
  {
   "cell_type": "markdown",
   "metadata": {},
   "source": [
    "## Example 2 - Render a DataFrame with 1 million rows\n",
    "*Note: The reason for the redundant \"import\" statements in the next cell (and many subsequent cells) is because it allows us to run the cells in any order.*"
   ]
  },
  {
   "cell_type": "code",
   "execution_count": 3,
   "metadata": {},
   "outputs": [
    {
     "data": {
      "application/vnd.jupyter.widget-view+json": {
       "model_id": "3840c81f2bc046e0b00a1d1f4c4cabea",
       "version_major": 2,
       "version_minor": 0
      },
      "text/plain": [
       "UWdyaWRXaWRnZXQoZ3JpZF9vcHRpb25zPXsnZGVmYXVsdENvbHVtbldpZHRoJzogMjAwLCAnaGlnaGxpZ2h0U2VsZWN0ZWRSb3cnOiBUcnVlLCAnZW5hYmxlVGV4dFNlbGVjdGlvbk9uQ2VsbHPigKY=\n"
      ]
     },
     "metadata": {},
     "output_type": "display_data"
    }
   ],
   "source": [
    "import pandas as pd\n",
    "import numpy as np\n",
    "import qgrid\n",
    "\n",
    "# set the default max number of rows to 10 so the larger DataFrame we render don't take up to much space \n",
    "qgrid.set_grid_option('maxVisibleRows', 10)\n",
    "\n",
    "df_scale = pd.DataFrame(np.random.randn(1000000, 4), columns=list('ABCD'))\n",
    "# duplicate column B as a string column, to test scalability for text column filters\n",
    "df_scale['B (as str)'] = df_scale['B'].map(lambda x: str(x))\n",
    "q_scale = qgrid.show_grid(df_scale, show_toolbar=True, grid_options={'forceFitColumns': False, 'defaultColumnWidth': 200})\n",
    "q_scale"
   ]
  },
  {
   "cell_type": "code",
   "execution_count": 4,
   "metadata": {
    "scrolled": true
   },
   "outputs": [
    {
     "data": {
      "text/html": [
       "<div>\n",
       "<style scoped>\n",
       "    .dataframe tbody tr th:only-of-type {\n",
       "        vertical-align: middle;\n",
       "    }\n",
       "\n",
       "    .dataframe tbody tr th {\n",
       "        vertical-align: top;\n",
       "    }\n",
       "\n",
       "    .dataframe thead th {\n",
       "        text-align: right;\n",
       "    }\n",
       "</style>\n",
       "<table border=\"1\" class=\"dataframe\">\n",
       "  <thead>\n",
       "    <tr style=\"text-align: right;\">\n",
       "      <th></th>\n",
       "      <th>A</th>\n",
       "      <th>B</th>\n",
       "      <th>C</th>\n",
       "      <th>D</th>\n",
       "      <th>B (as str)</th>\n",
       "    </tr>\n",
       "  </thead>\n",
       "  <tbody>\n",
       "    <tr>\n",
       "      <th>0</th>\n",
       "      <td>1.654683</td>\n",
       "      <td>0.772379</td>\n",
       "      <td>0.172211</td>\n",
       "      <td>-0.668027</td>\n",
       "      <td>0.772379151957</td>\n",
       "    </tr>\n",
       "    <tr>\n",
       "      <th>1</th>\n",
       "      <td>0.965178</td>\n",
       "      <td>-0.066138</td>\n",
       "      <td>0.531163</td>\n",
       "      <td>1.228651</td>\n",
       "      <td>-0.0661377576882</td>\n",
       "    </tr>\n",
       "    <tr>\n",
       "      <th>2</th>\n",
       "      <td>0.087166</td>\n",
       "      <td>1.934602</td>\n",
       "      <td>1.179212</td>\n",
       "      <td>0.033964</td>\n",
       "      <td>1.93460200585</td>\n",
       "    </tr>\n",
       "    <tr>\n",
       "      <th>3</th>\n",
       "      <td>0.076744</td>\n",
       "      <td>0.830244</td>\n",
       "      <td>-0.675816</td>\n",
       "      <td>0.178141</td>\n",
       "      <td>0.830244425899</td>\n",
       "    </tr>\n",
       "    <tr>\n",
       "      <th>4</th>\n",
       "      <td>-0.442472</td>\n",
       "      <td>-0.302423</td>\n",
       "      <td>0.672570</td>\n",
       "      <td>-0.424120</td>\n",
       "      <td>-0.302423490256</td>\n",
       "    </tr>\n",
       "    <tr>\n",
       "      <th>5</th>\n",
       "      <td>-0.555897</td>\n",
       "      <td>-0.285568</td>\n",
       "      <td>-0.353676</td>\n",
       "      <td>-0.235155</td>\n",
       "      <td>-0.285567721926</td>\n",
       "    </tr>\n",
       "    <tr>\n",
       "      <th>6</th>\n",
       "      <td>-0.242993</td>\n",
       "      <td>-0.451738</td>\n",
       "      <td>0.036927</td>\n",
       "      <td>2.113765</td>\n",
       "      <td>-0.451737708735</td>\n",
       "    </tr>\n",
       "    <tr>\n",
       "      <th>7</th>\n",
       "      <td>2.784675</td>\n",
       "      <td>-0.047190</td>\n",
       "      <td>1.264870</td>\n",
       "      <td>0.838975</td>\n",
       "      <td>-0.0471900665811</td>\n",
       "    </tr>\n",
       "    <tr>\n",
       "      <th>8</th>\n",
       "      <td>1.492579</td>\n",
       "      <td>1.097583</td>\n",
       "      <td>1.039516</td>\n",
       "      <td>-0.755541</td>\n",
       "      <td>1.09758263776</td>\n",
       "    </tr>\n",
       "    <tr>\n",
       "      <th>9</th>\n",
       "      <td>0.588587</td>\n",
       "      <td>0.210638</td>\n",
       "      <td>-0.347348</td>\n",
       "      <td>0.335400</td>\n",
       "      <td>0.210638117068</td>\n",
       "    </tr>\n",
       "    <tr>\n",
       "      <th>10</th>\n",
       "      <td>0.325009</td>\n",
       "      <td>-0.718682</td>\n",
       "      <td>-1.752713</td>\n",
       "      <td>0.145253</td>\n",
       "      <td>-0.718682071872</td>\n",
       "    </tr>\n",
       "    <tr>\n",
       "      <th>11</th>\n",
       "      <td>-0.242108</td>\n",
       "      <td>0.121548</td>\n",
       "      <td>-0.448962</td>\n",
       "      <td>-0.614675</td>\n",
       "      <td>0.121547846998</td>\n",
       "    </tr>\n",
       "    <tr>\n",
       "      <th>12</th>\n",
       "      <td>0.340854</td>\n",
       "      <td>0.193666</td>\n",
       "      <td>-0.793969</td>\n",
       "      <td>0.477763</td>\n",
       "      <td>0.193666194794</td>\n",
       "    </tr>\n",
       "    <tr>\n",
       "      <th>13</th>\n",
       "      <td>-1.059737</td>\n",
       "      <td>0.702596</td>\n",
       "      <td>-0.967919</td>\n",
       "      <td>-2.116889</td>\n",
       "      <td>0.702595699209</td>\n",
       "    </tr>\n",
       "    <tr>\n",
       "      <th>14</th>\n",
       "      <td>1.667947</td>\n",
       "      <td>-0.607408</td>\n",
       "      <td>0.404937</td>\n",
       "      <td>2.378755</td>\n",
       "      <td>-0.607408479655</td>\n",
       "    </tr>\n",
       "    <tr>\n",
       "      <th>15</th>\n",
       "      <td>-0.408975</td>\n",
       "      <td>-0.906969</td>\n",
       "      <td>0.581467</td>\n",
       "      <td>-0.666313</td>\n",
       "      <td>-0.906969364715</td>\n",
       "    </tr>\n",
       "    <tr>\n",
       "      <th>16</th>\n",
       "      <td>0.068589</td>\n",
       "      <td>-0.410440</td>\n",
       "      <td>1.437978</td>\n",
       "      <td>0.982937</td>\n",
       "      <td>-0.41044016369</td>\n",
       "    </tr>\n",
       "    <tr>\n",
       "      <th>17</th>\n",
       "      <td>-2.012134</td>\n",
       "      <td>-0.606768</td>\n",
       "      <td>-0.263053</td>\n",
       "      <td>1.760340</td>\n",
       "      <td>-0.606767970253</td>\n",
       "    </tr>\n",
       "    <tr>\n",
       "      <th>18</th>\n",
       "      <td>0.665019</td>\n",
       "      <td>-0.619029</td>\n",
       "      <td>2.106335</td>\n",
       "      <td>-0.753439</td>\n",
       "      <td>-0.619028840048</td>\n",
       "    </tr>\n",
       "    <tr>\n",
       "      <th>19</th>\n",
       "      <td>0.429251</td>\n",
       "      <td>-0.716831</td>\n",
       "      <td>1.374074</td>\n",
       "      <td>-0.144219</td>\n",
       "      <td>-0.716831455899</td>\n",
       "    </tr>\n",
       "    <tr>\n",
       "      <th>20</th>\n",
       "      <td>-0.130830</td>\n",
       "      <td>0.025966</td>\n",
       "      <td>0.453265</td>\n",
       "      <td>-1.375199</td>\n",
       "      <td>0.0259661603482</td>\n",
       "    </tr>\n",
       "    <tr>\n",
       "      <th>21</th>\n",
       "      <td>-0.693201</td>\n",
       "      <td>0.808591</td>\n",
       "      <td>-0.250112</td>\n",
       "      <td>-0.391438</td>\n",
       "      <td>0.808591138241</td>\n",
       "    </tr>\n",
       "    <tr>\n",
       "      <th>22</th>\n",
       "      <td>0.352255</td>\n",
       "      <td>-1.654589</td>\n",
       "      <td>-0.821538</td>\n",
       "      <td>0.690997</td>\n",
       "      <td>-1.65458920299</td>\n",
       "    </tr>\n",
       "    <tr>\n",
       "      <th>23</th>\n",
       "      <td>-0.667809</td>\n",
       "      <td>0.891839</td>\n",
       "      <td>-0.321355</td>\n",
       "      <td>-1.223438</td>\n",
       "      <td>0.891838624565</td>\n",
       "    </tr>\n",
       "    <tr>\n",
       "      <th>24</th>\n",
       "      <td>-0.379252</td>\n",
       "      <td>0.879460</td>\n",
       "      <td>0.740946</td>\n",
       "      <td>2.338005</td>\n",
       "      <td>0.879459661439</td>\n",
       "    </tr>\n",
       "    <tr>\n",
       "      <th>25</th>\n",
       "      <td>-1.124773</td>\n",
       "      <td>0.131826</td>\n",
       "      <td>0.348983</td>\n",
       "      <td>0.526192</td>\n",
       "      <td>0.131825822261</td>\n",
       "    </tr>\n",
       "    <tr>\n",
       "      <th>26</th>\n",
       "      <td>-1.777646</td>\n",
       "      <td>2.029168</td>\n",
       "      <td>-2.301944</td>\n",
       "      <td>1.889618</td>\n",
       "      <td>2.02916757256</td>\n",
       "    </tr>\n",
       "    <tr>\n",
       "      <th>27</th>\n",
       "      <td>-0.797628</td>\n",
       "      <td>0.260674</td>\n",
       "      <td>0.322824</td>\n",
       "      <td>-0.857860</td>\n",
       "      <td>0.260673638818</td>\n",
       "    </tr>\n",
       "    <tr>\n",
       "      <th>28</th>\n",
       "      <td>-1.438698</td>\n",
       "      <td>0.248032</td>\n",
       "      <td>0.525472</td>\n",
       "      <td>-0.186381</td>\n",
       "      <td>0.248031872446</td>\n",
       "    </tr>\n",
       "    <tr>\n",
       "      <th>29</th>\n",
       "      <td>-0.085478</td>\n",
       "      <td>1.115276</td>\n",
       "      <td>0.756051</td>\n",
       "      <td>-1.361743</td>\n",
       "      <td>1.11527596249</td>\n",
       "    </tr>\n",
       "    <tr>\n",
       "      <th>...</th>\n",
       "      <td>...</td>\n",
       "      <td>...</td>\n",
       "      <td>...</td>\n",
       "      <td>...</td>\n",
       "      <td>...</td>\n",
       "    </tr>\n",
       "    <tr>\n",
       "      <th>999970</th>\n",
       "      <td>0.595334</td>\n",
       "      <td>0.020328</td>\n",
       "      <td>-1.002903</td>\n",
       "      <td>0.201520</td>\n",
       "      <td>0.0203280780342</td>\n",
       "    </tr>\n",
       "    <tr>\n",
       "      <th>999971</th>\n",
       "      <td>0.897403</td>\n",
       "      <td>-0.320943</td>\n",
       "      <td>-0.458877</td>\n",
       "      <td>-0.795496</td>\n",
       "      <td>-0.320943115746</td>\n",
       "    </tr>\n",
       "    <tr>\n",
       "      <th>999972</th>\n",
       "      <td>-0.698905</td>\n",
       "      <td>-1.090003</td>\n",
       "      <td>0.029154</td>\n",
       "      <td>1.632911</td>\n",
       "      <td>-1.09000310794</td>\n",
       "    </tr>\n",
       "    <tr>\n",
       "      <th>999973</th>\n",
       "      <td>3.011642</td>\n",
       "      <td>-2.413474</td>\n",
       "      <td>1.038585</td>\n",
       "      <td>0.820609</td>\n",
       "      <td>-2.41347427053</td>\n",
       "    </tr>\n",
       "    <tr>\n",
       "      <th>999974</th>\n",
       "      <td>-0.423506</td>\n",
       "      <td>0.268806</td>\n",
       "      <td>0.370406</td>\n",
       "      <td>-1.739154</td>\n",
       "      <td>0.268805573243</td>\n",
       "    </tr>\n",
       "    <tr>\n",
       "      <th>999975</th>\n",
       "      <td>-0.776507</td>\n",
       "      <td>-0.134344</td>\n",
       "      <td>0.379004</td>\n",
       "      <td>-1.141947</td>\n",
       "      <td>-0.134344217694</td>\n",
       "    </tr>\n",
       "    <tr>\n",
       "      <th>999976</th>\n",
       "      <td>1.051266</td>\n",
       "      <td>0.686088</td>\n",
       "      <td>-0.515978</td>\n",
       "      <td>1.658620</td>\n",
       "      <td>0.686088029047</td>\n",
       "    </tr>\n",
       "    <tr>\n",
       "      <th>999977</th>\n",
       "      <td>-0.171190</td>\n",
       "      <td>0.574296</td>\n",
       "      <td>-0.931339</td>\n",
       "      <td>0.427709</td>\n",
       "      <td>0.574296011006</td>\n",
       "    </tr>\n",
       "    <tr>\n",
       "      <th>999978</th>\n",
       "      <td>-0.191732</td>\n",
       "      <td>0.080019</td>\n",
       "      <td>-0.287282</td>\n",
       "      <td>-0.031191</td>\n",
       "      <td>0.0800186887431</td>\n",
       "    </tr>\n",
       "    <tr>\n",
       "      <th>999979</th>\n",
       "      <td>0.549047</td>\n",
       "      <td>0.525132</td>\n",
       "      <td>0.664531</td>\n",
       "      <td>-0.602356</td>\n",
       "      <td>0.52513230175</td>\n",
       "    </tr>\n",
       "    <tr>\n",
       "      <th>999980</th>\n",
       "      <td>-1.875921</td>\n",
       "      <td>-1.844029</td>\n",
       "      <td>1.594056</td>\n",
       "      <td>0.520680</td>\n",
       "      <td>-1.84402918031</td>\n",
       "    </tr>\n",
       "    <tr>\n",
       "      <th>999981</th>\n",
       "      <td>-2.299574</td>\n",
       "      <td>0.038046</td>\n",
       "      <td>0.126321</td>\n",
       "      <td>0.007072</td>\n",
       "      <td>0.0380458752915</td>\n",
       "    </tr>\n",
       "    <tr>\n",
       "      <th>999982</th>\n",
       "      <td>0.071412</td>\n",
       "      <td>-0.331096</td>\n",
       "      <td>-0.891847</td>\n",
       "      <td>0.166690</td>\n",
       "      <td>-0.331095979995</td>\n",
       "    </tr>\n",
       "    <tr>\n",
       "      <th>999983</th>\n",
       "      <td>-0.198538</td>\n",
       "      <td>-0.831874</td>\n",
       "      <td>0.513968</td>\n",
       "      <td>1.132340</td>\n",
       "      <td>-0.831873607014</td>\n",
       "    </tr>\n",
       "    <tr>\n",
       "      <th>999984</th>\n",
       "      <td>-2.340374</td>\n",
       "      <td>0.621241</td>\n",
       "      <td>-0.403200</td>\n",
       "      <td>-0.611695</td>\n",
       "      <td>0.621240525469</td>\n",
       "    </tr>\n",
       "    <tr>\n",
       "      <th>999985</th>\n",
       "      <td>-0.422158</td>\n",
       "      <td>-0.042786</td>\n",
       "      <td>-1.400408</td>\n",
       "      <td>-0.896371</td>\n",
       "      <td>-0.0427855189984</td>\n",
       "    </tr>\n",
       "    <tr>\n",
       "      <th>999986</th>\n",
       "      <td>-1.029246</td>\n",
       "      <td>0.245257</td>\n",
       "      <td>-2.114175</td>\n",
       "      <td>-2.991338</td>\n",
       "      <td>0.245257096744</td>\n",
       "    </tr>\n",
       "    <tr>\n",
       "      <th>999987</th>\n",
       "      <td>1.324737</td>\n",
       "      <td>1.316117</td>\n",
       "      <td>1.675975</td>\n",
       "      <td>0.188272</td>\n",
       "      <td>1.31611667261</td>\n",
       "    </tr>\n",
       "    <tr>\n",
       "      <th>999988</th>\n",
       "      <td>1.182333</td>\n",
       "      <td>0.987931</td>\n",
       "      <td>-0.201528</td>\n",
       "      <td>0.145532</td>\n",
       "      <td>0.987930841256</td>\n",
       "    </tr>\n",
       "    <tr>\n",
       "      <th>999989</th>\n",
       "      <td>0.569091</td>\n",
       "      <td>1.624612</td>\n",
       "      <td>-0.185595</td>\n",
       "      <td>2.328708</td>\n",
       "      <td>1.62461168716</td>\n",
       "    </tr>\n",
       "    <tr>\n",
       "      <th>999990</th>\n",
       "      <td>-0.142362</td>\n",
       "      <td>0.139691</td>\n",
       "      <td>-0.263481</td>\n",
       "      <td>-0.807111</td>\n",
       "      <td>0.1396907923</td>\n",
       "    </tr>\n",
       "    <tr>\n",
       "      <th>999991</th>\n",
       "      <td>0.001184</td>\n",
       "      <td>-0.459368</td>\n",
       "      <td>0.177305</td>\n",
       "      <td>-0.046939</td>\n",
       "      <td>-0.459367646068</td>\n",
       "    </tr>\n",
       "    <tr>\n",
       "      <th>999992</th>\n",
       "      <td>0.965861</td>\n",
       "      <td>0.044894</td>\n",
       "      <td>-0.277874</td>\n",
       "      <td>0.965082</td>\n",
       "      <td>0.0448943737584</td>\n",
       "    </tr>\n",
       "    <tr>\n",
       "      <th>999993</th>\n",
       "      <td>0.181084</td>\n",
       "      <td>0.712471</td>\n",
       "      <td>-3.181870</td>\n",
       "      <td>0.768389</td>\n",
       "      <td>0.712471144602</td>\n",
       "    </tr>\n",
       "    <tr>\n",
       "      <th>999994</th>\n",
       "      <td>0.877401</td>\n",
       "      <td>-0.677645</td>\n",
       "      <td>1.226877</td>\n",
       "      <td>0.849261</td>\n",
       "      <td>-0.67764474248</td>\n",
       "    </tr>\n",
       "    <tr>\n",
       "      <th>999995</th>\n",
       "      <td>0.044142</td>\n",
       "      <td>0.495794</td>\n",
       "      <td>1.923026</td>\n",
       "      <td>0.482552</td>\n",
       "      <td>0.495793571142</td>\n",
       "    </tr>\n",
       "    <tr>\n",
       "      <th>999996</th>\n",
       "      <td>2.393777</td>\n",
       "      <td>-0.047110</td>\n",
       "      <td>-0.326010</td>\n",
       "      <td>-1.223176</td>\n",
       "      <td>-0.0471101950356</td>\n",
       "    </tr>\n",
       "    <tr>\n",
       "      <th>999997</th>\n",
       "      <td>-1.953212</td>\n",
       "      <td>-1.060939</td>\n",
       "      <td>0.595149</td>\n",
       "      <td>1.784561</td>\n",
       "      <td>-1.06093872581</td>\n",
       "    </tr>\n",
       "    <tr>\n",
       "      <th>999998</th>\n",
       "      <td>-0.847910</td>\n",
       "      <td>-0.178870</td>\n",
       "      <td>-0.267582</td>\n",
       "      <td>0.437012</td>\n",
       "      <td>-0.178869701206</td>\n",
       "    </tr>\n",
       "    <tr>\n",
       "      <th>999999</th>\n",
       "      <td>0.869810</td>\n",
       "      <td>0.917959</td>\n",
       "      <td>1.626967</td>\n",
       "      <td>0.676334</td>\n",
       "      <td>0.91795874658</td>\n",
       "    </tr>\n",
       "  </tbody>\n",
       "</table>\n",
       "<p>1000000 rows × 5 columns</p>\n",
       "</div>"
      ],
      "text/plain": [
       "               A         B         C         D        B (as str)\n",
       "0       1.654683  0.772379  0.172211 -0.668027    0.772379151957\n",
       "1       0.965178 -0.066138  0.531163  1.228651  -0.0661377576882\n",
       "2       0.087166  1.934602  1.179212  0.033964     1.93460200585\n",
       "3       0.076744  0.830244 -0.675816  0.178141    0.830244425899\n",
       "4      -0.442472 -0.302423  0.672570 -0.424120   -0.302423490256\n",
       "5      -0.555897 -0.285568 -0.353676 -0.235155   -0.285567721926\n",
       "6      -0.242993 -0.451738  0.036927  2.113765   -0.451737708735\n",
       "7       2.784675 -0.047190  1.264870  0.838975  -0.0471900665811\n",
       "8       1.492579  1.097583  1.039516 -0.755541     1.09758263776\n",
       "9       0.588587  0.210638 -0.347348  0.335400    0.210638117068\n",
       "10      0.325009 -0.718682 -1.752713  0.145253   -0.718682071872\n",
       "11     -0.242108  0.121548 -0.448962 -0.614675    0.121547846998\n",
       "12      0.340854  0.193666 -0.793969  0.477763    0.193666194794\n",
       "13     -1.059737  0.702596 -0.967919 -2.116889    0.702595699209\n",
       "14      1.667947 -0.607408  0.404937  2.378755   -0.607408479655\n",
       "15     -0.408975 -0.906969  0.581467 -0.666313   -0.906969364715\n",
       "16      0.068589 -0.410440  1.437978  0.982937    -0.41044016369\n",
       "17     -2.012134 -0.606768 -0.263053  1.760340   -0.606767970253\n",
       "18      0.665019 -0.619029  2.106335 -0.753439   -0.619028840048\n",
       "19      0.429251 -0.716831  1.374074 -0.144219   -0.716831455899\n",
       "20     -0.130830  0.025966  0.453265 -1.375199   0.0259661603482\n",
       "21     -0.693201  0.808591 -0.250112 -0.391438    0.808591138241\n",
       "22      0.352255 -1.654589 -0.821538  0.690997    -1.65458920299\n",
       "23     -0.667809  0.891839 -0.321355 -1.223438    0.891838624565\n",
       "24     -0.379252  0.879460  0.740946  2.338005    0.879459661439\n",
       "25     -1.124773  0.131826  0.348983  0.526192    0.131825822261\n",
       "26     -1.777646  2.029168 -2.301944  1.889618     2.02916757256\n",
       "27     -0.797628  0.260674  0.322824 -0.857860    0.260673638818\n",
       "28     -1.438698  0.248032  0.525472 -0.186381    0.248031872446\n",
       "29     -0.085478  1.115276  0.756051 -1.361743     1.11527596249\n",
       "...          ...       ...       ...       ...               ...\n",
       "999970  0.595334  0.020328 -1.002903  0.201520   0.0203280780342\n",
       "999971  0.897403 -0.320943 -0.458877 -0.795496   -0.320943115746\n",
       "999972 -0.698905 -1.090003  0.029154  1.632911    -1.09000310794\n",
       "999973  3.011642 -2.413474  1.038585  0.820609    -2.41347427053\n",
       "999974 -0.423506  0.268806  0.370406 -1.739154    0.268805573243\n",
       "999975 -0.776507 -0.134344  0.379004 -1.141947   -0.134344217694\n",
       "999976  1.051266  0.686088 -0.515978  1.658620    0.686088029047\n",
       "999977 -0.171190  0.574296 -0.931339  0.427709    0.574296011006\n",
       "999978 -0.191732  0.080019 -0.287282 -0.031191   0.0800186887431\n",
       "999979  0.549047  0.525132  0.664531 -0.602356     0.52513230175\n",
       "999980 -1.875921 -1.844029  1.594056  0.520680    -1.84402918031\n",
       "999981 -2.299574  0.038046  0.126321  0.007072   0.0380458752915\n",
       "999982  0.071412 -0.331096 -0.891847  0.166690   -0.331095979995\n",
       "999983 -0.198538 -0.831874  0.513968  1.132340   -0.831873607014\n",
       "999984 -2.340374  0.621241 -0.403200 -0.611695    0.621240525469\n",
       "999985 -0.422158 -0.042786 -1.400408 -0.896371  -0.0427855189984\n",
       "999986 -1.029246  0.245257 -2.114175 -2.991338    0.245257096744\n",
       "999987  1.324737  1.316117  1.675975  0.188272     1.31611667261\n",
       "999988  1.182333  0.987931 -0.201528  0.145532    0.987930841256\n",
       "999989  0.569091  1.624612 -0.185595  2.328708     1.62461168716\n",
       "999990 -0.142362  0.139691 -0.263481 -0.807111      0.1396907923\n",
       "999991  0.001184 -0.459368  0.177305 -0.046939   -0.459367646068\n",
       "999992  0.965861  0.044894 -0.277874  0.965082   0.0448943737584\n",
       "999993  0.181084  0.712471 -3.181870  0.768389    0.712471144602\n",
       "999994  0.877401 -0.677645  1.226877  0.849261    -0.67764474248\n",
       "999995  0.044142  0.495794  1.923026  0.482552    0.495793571142\n",
       "999996  2.393777 -0.047110 -0.326010 -1.223176  -0.0471101950356\n",
       "999997 -1.953212 -1.060939  0.595149  1.784561    -1.06093872581\n",
       "999998 -0.847910 -0.178870 -0.267582  0.437012   -0.178869701206\n",
       "999999  0.869810  0.917959  1.626967  0.676334     0.91795874658\n",
       "\n",
       "[1000000 rows x 5 columns]"
      ]
     },
     "execution_count": 4,
     "metadata": {},
     "output_type": "execute_result"
    }
   ],
   "source": [
    "q_scale.get_changed_df()"
   ]
  },
  {
   "cell_type": "markdown",
   "metadata": {},
   "source": [
    "## Example 3 - Render a DataFrame returned by Yahoo Finance by enabling automatic qgrids"
   ]
  },
  {
   "cell_type": "code",
   "execution_count": 5,
   "metadata": {},
   "outputs": [
    {
     "ename": "ImportError",
     "evalue": "No module named pandas_datareader.data",
     "output_type": "error",
     "traceback": [
      "\u001b[0;31m---------------------------------------------------------------------------\u001b[0m",
      "\u001b[0;31mImportError\u001b[0m                               Traceback (most recent call last)",
      "\u001b[0;32m<ipython-input-5-ec04466a02e8>\u001b[0m in \u001b[0;36m<module>\u001b[0;34m()\u001b[0m\n\u001b[1;32m      5\u001b[0m \u001b[0;34m\u001b[0m\u001b[0m\n\u001b[1;32m      6\u001b[0m \u001b[0;31m# Get a pandas DataFrame containing the daily prices for the S&P 500 from 1/1/2014 - 1/1/2017\u001b[0m\u001b[0;34m\u001b[0m\u001b[0;34m\u001b[0m\u001b[0m\n\u001b[0;32m----> 7\u001b[0;31m \u001b[0;32mfrom\u001b[0m \u001b[0mpandas_datareader\u001b[0m\u001b[0;34m.\u001b[0m\u001b[0mdata\u001b[0m \u001b[0;32mimport\u001b[0m \u001b[0mDataReader\u001b[0m\u001b[0;34m\u001b[0m\u001b[0m\n\u001b[0m\u001b[1;32m      8\u001b[0m spy = DataReader(\n\u001b[1;32m      9\u001b[0m     \u001b[0;34m'SPY'\u001b[0m\u001b[0;34m,\u001b[0m\u001b[0;34m\u001b[0m\u001b[0m\n",
      "\u001b[0;31mImportError\u001b[0m: No module named pandas_datareader.data"
     ]
    }
   ],
   "source": [
    "import pandas as pd\n",
    "import numpy as np\n",
    "import qgrid\n",
    "randn = np.random.randn\n",
    "\n",
    "# Get a pandas DataFrame containing the daily prices for the S&P 500 from 1/1/2014 - 1/1/2017\n",
    "from pandas_datareader.data import DataReader\n",
    "spy = DataReader(\n",
    "    'SPY',\n",
    "    'yahoo',\n",
    "    pd.Timestamp('2014-01-01'),  \n",
    "    pd.Timestamp('2017-01-01'),\n",
    ")\n",
    "# Tell qgrid to automatically render all DataFrames and Series as qgrids.\n",
    "qgrid.enable()\n",
    "\n",
    "# Render the DataFrame as a qgrid automatically\n",
    "spy"
   ]
  },
  {
   "cell_type": "code",
   "execution_count": null,
   "metadata": {},
   "outputs": [],
   "source": [
    "# Disable automatic display so we can display DataFrames in the normal way\n",
    "qgrid.disable()"
   ]
  },
  {
   "cell_type": "markdown",
   "metadata": {},
   "source": [
    "## Example 4 - Render a DataFrame with a multi-index\n",
    "\n",
    "Create a sample DataFrame using the `wb.download` function and render it without using qgrid"
   ]
  },
  {
   "cell_type": "code",
   "execution_count": null,
   "metadata": {},
   "outputs": [],
   "source": [
    "import qgrid\n",
    "import pandas as pd\n",
    "from pandas_datareader import wb\n",
    "df_countries = wb.download(indicator='NY.GDP.PCAP.KD', country=['all'], start=2005, end=2008)\n",
    "df_countries.columns = ['GDP per capita (constant 2005 US$)']\n",
    "qgrid.show_grid(df_countries)"
   ]
  },
  {
   "cell_type": "code",
   "execution_count": null,
   "metadata": {
    "scrolled": true
   },
   "outputs": [],
   "source": [
    "df_countries"
   ]
  },
  {
   "cell_type": "markdown",
   "metadata": {},
   "source": [
    "## Example 5 - Render a DataFrame with an interval column\n",
    "Create a sample DataFrame using the `wb.download` function and render it without using qgrid"
   ]
  },
  {
   "cell_type": "code",
   "execution_count": null,
   "metadata": {},
   "outputs": [],
   "source": [
    "import numpy as np\n",
    "import pandas as pd\n",
    "import qgrid\n",
    "\n",
    "td = np.cumsum(np.random.randint(1, 15*60, 1000))\n",
    "start = pd.Timestamp('2017-04-17')\n",
    "df_interval = pd.DataFrame(\n",
    "    [(start + pd.Timedelta(seconds=d)) for d in td],\n",
    "    columns=['time'])\n",
    "\n",
    "freq = '15Min'\n",
    "start = df_interval['time'].min().floor(freq)\n",
    "end = df_interval['time'].max().ceil(freq)\n",
    "bins = pd.date_range(start, end, freq=freq)\n",
    "\n",
    "df_interval['time_bin'] = pd.cut(df_interval['time'], bins)\n",
    "\n",
    "qgrid.show_grid(df_interval, show_toolbar=True)"
   ]
  },
  {
   "cell_type": "code",
   "execution_count": null,
   "metadata": {
    "scrolled": true
   },
   "outputs": [],
   "source": [
    "df_interval"
   ]
  },
  {
   "cell_type": "markdown",
   "metadata": {},
   "source": [
    "## Example 6 - Render a DataFrame with unnamed columns\n",
    "Create a sample DataFrame using the `wb.download` function and render it without using qgrid"
   ]
  },
  {
   "cell_type": "code",
   "execution_count": null,
   "metadata": {},
   "outputs": [],
   "source": [
    "import numpy as np\n",
    "import pandas as pd\n",
    "import qgrid\n",
    "\n",
    "arrays = [['bar', 'bar', 'baz', 'baz', 'foo', 'foo', 'qux', 'qux'],\n",
    "          ['one', 'two', 'one', 'two', 'one', 'two', 'one', 'two']]\n",
    "df_multi = pd.DataFrame(np.random.randn(8, 4), index=arrays)\n",
    "qgrid.show_grid(df_multi, show_toolbar=True)"
   ]
  },
  {
   "cell_type": "code",
   "execution_count": null,
   "metadata": {},
   "outputs": [],
   "source": [
    "df_multi"
   ]
  },
  {
   "cell_type": "markdown",
   "metadata": {},
   "source": [
    "## Example 7 - Render a narrow DataFrame inside a Layout widget\n",
    "Create a sample DataFrame with only two columns using `randint`, and render it in a Layout widget that's 20% of the width of the output area."
   ]
  },
  {
   "cell_type": "code",
   "execution_count": null,
   "metadata": {},
   "outputs": [],
   "source": [
    "import numpy as np\n",
    "import pandas as pd\n",
    "import qgrid\n",
    "import ipywidgets as ipyw\n",
    "randn = np.random.randn\n",
    "df_types = pd.DataFrame(np.random.randint(1,14,14))\n",
    "qgrid_widget = qgrid.show_grid(df_types, show_toolbar=False)\n",
    "qgrid_widget.layout = ipyw.Layout(width='20%')\n",
    "qgrid_widget"
   ]
  },
  {
   "cell_type": "markdown",
   "metadata": {},
   "source": [
    "## Example 8 - Render a DataFrame with an index and column that contain multiple types"
   ]
  },
  {
   "cell_type": "code",
   "execution_count": null,
   "metadata": {},
   "outputs": [],
   "source": [
    "import pandas as pd\n",
    "import qgrid\n",
    "df = pd.DataFrame({'A': [1.2, 'xy', 4], 'B': [3, 4, 5]})\n",
    "df = df.set_index(pd.Index(['yz', 7, 3.2]))\n",
    "view = qgrid.show_grid(df)\n",
    "view"
   ]
  },
  {
   "cell_type": "markdown",
   "metadata": {},
   "source": [
    "## Example 9 - Render a DataFrame with a Period index and Period column"
   ]
  },
  {
   "cell_type": "code",
   "execution_count": null,
   "metadata": {},
   "outputs": [],
   "source": [
    "import pandas as pd\n",
    "import qgrid\n",
    "range_index = pd.period_range(start='2000', periods=10, freq='B')\n",
    "df = pd.DataFrame({'a': 5, 'b': range_index}, index=range_index)\n",
    "view = qgrid.show_grid(df)\n",
    "view"
   ]
  },
  {
   "cell_type": "markdown",
   "metadata": {},
   "source": [
    "## Example 10 - Render a DataFrame with NaN and None"
   ]
  },
  {
   "cell_type": "code",
   "execution_count": null,
   "metadata": {},
   "outputs": [],
   "source": [
    "import pandas as pd\n",
    "import numpy as np\n",
    "import qgrid\n",
    "df = pd.DataFrame([(pd.Timestamp('2017-02-02'), None, 3.4), (np.nan, 2, 4.7), (pd.Timestamp('2017-02-03'), 3, None)])\n",
    "qgrid.show_grid(df)"
   ]
  },
  {
   "cell_type": "code",
   "execution_count": null,
   "metadata": {},
   "outputs": [],
   "source": []
  }
 ],
 "metadata": {
  "kernelspec": {
   "display_name": "Python 2",
   "language": "python",
   "name": "python2"
  },
  "language_info": {
   "codemirror_mode": {
    "name": "ipython",
    "version": 2
   },
   "file_extension": ".py",
   "mimetype": "text/x-python",
   "name": "python",
   "nbconvert_exporter": "python",
   "pygments_lexer": "ipython2",
   "version": "2.7.15"
  },
  "widgets": {
   "application/vnd.jupyter.widget-state+json": {
    "state": {
     "1a834c4c69af4c48bed691594ce5e0ad": {
      "model_module": "@jupyter-widgets/base",
      "model_module_version": "1.0.0",
      "model_name": "LayoutModel",
      "state": {}
     },
     "3fb8c261d3e249248ea7703065634285": {
      "model_module": "@jupyter-widgets/base",
      "model_module_version": "1.0.0",
      "model_name": "LayoutModel",
      "state": {}
     },
     "7aa5e1ce49fc4d0f9366bea5c684c58d": {
      "model_module": "qgrid",
      "model_module_version": "1.0.0-alpha.6",
      "model_name": "QgridModel",
      "state": {
       "_columns": {
        "A": {
         "name": "A",
         "type": "number"
        },
        "B": {
         "name": "B",
         "type": "datetime"
        },
        "C": {
         "name": "C",
         "type": "number"
        },
        "D": {
         "name": "D",
         "type": "integer"
        },
        "E": {
         "constraints": {
          "enum": [
           "adams",
           "hamilton",
           "jefferson",
           "kennedy",
           "lincoln",
           "madison",
           "roosevelt",
           "washington"
          ]
         },
         "name": "E",
         "ordered": false,
         "type": "any"
        },
        "F": {
         "name": "F",
         "type": "string"
        },
        "G": {
         "name": "G",
         "type": "boolean"
        },
        "index": {
         "name": "index",
         "type": "integer"
        }
       },
       "_df_json": "{\"schema\": {\"fields\":[{\"name\":\"index\",\"type\":\"integer\"},{\"name\":\"A\",\"type\":\"number\"},{\"name\":\"B\",\"type\":\"datetime\"},{\"name\":\"C\",\"type\":\"number\"},{\"name\":\"D\",\"type\":\"integer\"},{\"name\":\"E\",\"type\":\"any\",\"constraints\":{\"enum\":[\"adams\",\"hamilton\",\"jefferson\",\"kennedy\",\"lincoln\",\"madison\",\"roosevelt\",\"washington\"]},\"ordered\":false},{\"name\":\"F\",\"type\":\"string\"},{\"name\":\"G\",\"type\":\"boolean\"}],\"primaryKey\":[\"index\"],\"pandas_version\":\"0.20.0\"}, \"data\": [{\"index\":0,\"A\":1.0,\"B\":\"2013-01-01T00:00:00.000Z\",\"C\":-0.09128,\"D\":3,\"E\":\"washington\",\"F\":\"foo\",\"G\":true},{\"index\":1,\"A\":1.0,\"B\":\"2013-01-02T00:00:00.000Z\",\"C\":-0.57373,\"D\":3,\"E\":\"adams\",\"F\":\"bar\",\"G\":false},{\"index\":2,\"A\":1.0,\"B\":\"2013-01-03T00:00:00.000Z\",\"C\":0.4723,\"D\":3,\"E\":\"washington\",\"F\":\"buzz\",\"G\":false},{\"index\":3,\"A\":1.0,\"B\":\"2013-01-04T00:00:00.000Z\",\"C\":-0.09316,\"D\":3,\"E\":\"madison\",\"F\":\"bippity\",\"G\":false},{\"index\":4,\"A\":1.0,\"B\":\"2013-01-05T00:00:00.000Z\",\"C\":-0.20181,\"D\":3,\"E\":\"lincoln\",\"F\":\"boppity\",\"G\":false},{\"index\":5,\"A\":1.0,\"B\":\"2013-01-06T00:00:00.000Z\",\"C\":1.7561,\"D\":3,\"E\":\"jefferson\",\"F\":\"foo\",\"G\":true},{\"index\":6,\"A\":1.0,\"B\":\"2013-01-07T00:00:00.000Z\",\"C\":1.20064,\"D\":3,\"E\":\"hamilton\",\"F\":\"foo\",\"G\":true},{\"index\":7,\"A\":1.0,\"B\":\"2013-01-08T00:00:00.000Z\",\"C\":0.98097,\"D\":3,\"E\":\"roosevelt\",\"F\":\"bar\",\"G\":false},{\"index\":8,\"A\":1.0,\"B\":\"2013-01-09T00:00:00.000Z\",\"C\":0.8321,\"D\":3,\"E\":\"kennedy\",\"F\":\"zoo\",\"G\":false}]}",
       "_df_range": [
        0,
        100
       ],
       "_interval_columns": [],
       "_model_module_version": "1.0.0-alpha.6",
       "_row_count": 9,
       "_sort_ascending": true,
       "_sort_field": "",
       "_view_module_version": "1.0.0-alpha.6",
       "grid_options": {
        "autoEdit": false,
        "defaultColumnWidth": 150,
        "editable": true,
        "enableColumnReorder": false,
        "enableTextSelectionOnCells": true,
        "explicitInitialization": true,
        "forceFitColumns": true,
        "fullWidthRows": true,
        "rowHeight": 28,
        "syncColumnCellResize": true
       },
       "layout": "IPY_MODEL_1a834c4c69af4c48bed691594ce5e0ad",
       "precision": 5,
       "show_toolbar": false
      }
     },
     "7ec042abef044645a9f8bd38a3f69faf": {
      "model_module": "qgrid",
      "model_module_version": "1.0.0-alpha.6",
      "model_name": "QgridModel",
      "state": {
       "_columns": {
        "A": {
         "name": "A",
         "type": "number"
        },
        "B": {
         "name": "B",
         "type": "datetime"
        },
        "C": {
         "name": "C",
         "type": "number"
        },
        "D": {
         "name": "D",
         "type": "integer"
        },
        "E": {
         "constraints": {
          "enum": [
           "adams",
           "hamilton",
           "jefferson",
           "kennedy",
           "lincoln",
           "madison",
           "roosevelt",
           "washington"
          ]
         },
         "name": "E",
         "ordered": false,
         "type": "any"
        },
        "F": {
         "name": "F",
         "type": "string"
        },
        "G": {
         "name": "G",
         "type": "boolean"
        },
        "index": {
         "name": "index",
         "type": "integer"
        }
       },
       "_df_json": "{\"schema\": {\"fields\":[{\"name\":\"index\",\"type\":\"integer\"},{\"name\":\"A\",\"type\":\"number\"},{\"name\":\"B\",\"type\":\"datetime\"},{\"name\":\"C\",\"type\":\"number\"},{\"name\":\"D\",\"type\":\"integer\"},{\"name\":\"E\",\"type\":\"any\",\"constraints\":{\"enum\":[\"adams\",\"hamilton\",\"jefferson\",\"kennedy\",\"lincoln\",\"madison\",\"roosevelt\",\"washington\"]},\"ordered\":false},{\"name\":\"F\",\"type\":\"string\"},{\"name\":\"G\",\"type\":\"boolean\"}],\"primaryKey\":[\"index\"],\"pandas_version\":\"0.20.0\"}, \"data\": [{\"index\":0,\"A\":1.0,\"B\":\"2013-01-01T00:00:00.000Z\",\"C\":0.13177,\"D\":3,\"E\":\"washington\",\"F\":\"foo\",\"G\":true},{\"index\":1,\"A\":1.0,\"B\":\"2013-01-02T00:00:00.000Z\",\"C\":-1.56846,\"D\":3,\"E\":\"adams\",\"F\":\"bar\",\"G\":false},{\"index\":2,\"A\":1.0,\"B\":\"2013-01-03T00:00:00.000Z\",\"C\":1.2584,\"D\":3,\"E\":\"washington\",\"F\":\"buzz\",\"G\":false},{\"index\":3,\"A\":1.0,\"B\":\"2013-01-04T00:00:00.000Z\",\"C\":-1.54316,\"D\":3,\"E\":\"madison\",\"F\":\"bippity\",\"G\":false},{\"index\":4,\"A\":1.0,\"B\":\"2013-01-05T00:00:00.000Z\",\"C\":0.01483,\"D\":3,\"E\":\"lincoln\",\"F\":\"boppity\",\"G\":false},{\"index\":5,\"A\":1.0,\"B\":\"2013-01-06T00:00:00.000Z\",\"C\":-0.26442,\"D\":3,\"E\":\"jefferson\",\"F\":\"foo\",\"G\":true},{\"index\":6,\"A\":1.0,\"B\":\"2013-01-07T00:00:00.000Z\",\"C\":-1.85692,\"D\":3,\"E\":\"hamilton\",\"F\":\"foo\",\"G\":true},{\"index\":7,\"A\":1.0,\"B\":\"2013-01-08T00:00:00.000Z\",\"C\":1.38498,\"D\":3,\"E\":\"roosevelt\",\"F\":\"bar\",\"G\":false},{\"index\":8,\"A\":1.0,\"B\":\"2013-01-09T00:00:00.000Z\",\"C\":0.40905,\"D\":3,\"E\":\"kennedy\",\"F\":\"zoo\",\"G\":false}]}",
       "_df_range": [
        0,
        100
       ],
       "_interval_columns": [],
       "_model_module_version": "1.0.0-alpha.6",
       "_row_count": 9,
       "_sort_ascending": true,
       "_sort_field": "",
       "_view_module_version": "1.0.0-alpha.6",
       "grid_options": {
        "autoEdit": false,
        "defaultColumnWidth": 150,
        "editable": true,
        "enableColumnReorder": false,
        "enableTextSelectionOnCells": true,
        "explicitInitialization": true,
        "forceFitColumns": true,
        "fullWidthRows": true,
        "rowHeight": 28,
        "syncColumnCellResize": true
       },
       "layout": "IPY_MODEL_8eb3cf5ce7da431db4a3e4e9d3d64511",
       "precision": 5,
       "show_toolbar": false
      }
     },
     "8eb3cf5ce7da431db4a3e4e9d3d64511": {
      "model_module": "@jupyter-widgets/base",
      "model_module_version": "1.0.0",
      "model_name": "LayoutModel",
      "state": {}
     },
     "fa118ab9f1c840cd83509f56d50ee163": {
      "model_module": "qgrid",
      "model_module_version": "1.0.0-alpha.6",
      "model_name": "QgridModel",
      "state": {
       "_columns": {
        "A": {
         "name": "A",
         "type": "number"
        },
        "B": {
         "name": "B",
         "type": "datetime"
        },
        "C": {
         "name": "C",
         "type": "number"
        },
        "D": {
         "name": "D",
         "type": "integer"
        },
        "E": {
         "constraints": {
          "enum": [
           "adams",
           "hamilton",
           "jefferson",
           "kennedy",
           "lincoln",
           "madison",
           "roosevelt",
           "washington"
          ]
         },
         "name": "E",
         "ordered": false,
         "type": "any"
        },
        "F": {
         "name": "F",
         "type": "string"
        },
        "G": {
         "name": "G",
         "type": "boolean"
        },
        "index": {
         "name": "index",
         "type": "integer"
        }
       },
       "_df_json": "{\"schema\": {\"fields\":[{\"name\":\"index\",\"type\":\"integer\"},{\"name\":\"A\",\"type\":\"number\"},{\"name\":\"B\",\"type\":\"datetime\"},{\"name\":\"C\",\"type\":\"number\"},{\"name\":\"D\",\"type\":\"integer\"},{\"name\":\"E\",\"type\":\"any\",\"constraints\":{\"enum\":[\"adams\",\"hamilton\",\"jefferson\",\"kennedy\",\"lincoln\",\"madison\",\"roosevelt\",\"washington\"]},\"ordered\":false},{\"name\":\"F\",\"type\":\"string\"},{\"name\":\"G\",\"type\":\"boolean\"}],\"primaryKey\":[\"index\"],\"pandas_version\":\"0.20.0\"}, \"data\": [{\"index\":0,\"A\":1.0,\"B\":\"2013-01-01T00:00:00.000Z\",\"C\":-0.67408,\"D\":3,\"E\":\"washington\",\"F\":\"foo\",\"G\":true},{\"index\":1,\"A\":1.0,\"B\":\"2013-01-02T00:00:00.000Z\",\"C\":-0.87122,\"D\":3,\"E\":\"adams\",\"F\":\"bar\",\"G\":false},{\"index\":2,\"A\":1.0,\"B\":\"2013-01-03T00:00:00.000Z\",\"C\":0.58722,\"D\":3,\"E\":\"washington\",\"F\":\"buzz\",\"G\":false},{\"index\":3,\"A\":1.0,\"B\":\"2013-01-04T00:00:00.000Z\",\"C\":0.14947,\"D\":3,\"E\":\"madison\",\"F\":\"bippity\",\"G\":false},{\"index\":4,\"A\":1.0,\"B\":\"2013-01-05T00:00:00.000Z\",\"C\":0.89719,\"D\":3,\"E\":\"lincoln\",\"F\":\"boppity\",\"G\":false},{\"index\":5,\"A\":1.0,\"B\":\"2013-01-06T00:00:00.000Z\",\"C\":0.41141,\"D\":3,\"E\":\"jefferson\",\"F\":\"foo\",\"G\":true},{\"index\":6,\"A\":1.0,\"B\":\"2013-01-07T00:00:00.000Z\",\"C\":0.66837,\"D\":3,\"E\":\"hamilton\",\"F\":\"foo\",\"G\":true},{\"index\":7,\"A\":1.0,\"B\":\"2013-01-08T00:00:00.000Z\",\"C\":0.42815,\"D\":3,\"E\":\"roosevelt\",\"F\":\"bar\",\"G\":false},{\"index\":8,\"A\":1.0,\"B\":\"2013-01-09T00:00:00.000Z\",\"C\":-0.49399,\"D\":3,\"E\":\"kennedy\",\"F\":\"zoo\",\"G\":false}]}",
       "_df_range": [
        0,
        100
       ],
       "_interval_columns": [],
       "_model_module_version": "1.0.0-alpha.6",
       "_row_count": 9,
       "_sort_ascending": true,
       "_sort_field": "",
       "_view_module_version": "1.0.0-alpha.6",
       "grid_options": {
        "autoEdit": false,
        "defaultColumnWidth": 150,
        "editable": true,
        "enableColumnReorder": false,
        "enableTextSelectionOnCells": true,
        "explicitInitialization": true,
        "forceFitColumns": true,
        "fullWidthRows": true,
        "rowHeight": 28,
        "syncColumnCellResize": true
       },
       "layout": "IPY_MODEL_3fb8c261d3e249248ea7703065634285",
       "precision": 5,
       "show_toolbar": false
      }
     }
    },
    "version_major": 2,
    "version_minor": 0
   }
  }
 },
 "nbformat": 4,
 "nbformat_minor": 2
}

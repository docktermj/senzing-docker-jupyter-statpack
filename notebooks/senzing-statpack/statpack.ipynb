{
 "cells": [
  {
   "cell_type": "markdown",
   "metadata": {},
   "source": [
    "# StatPack distributions\n",
    "\n",
    "In this notebook..."
   ]
  },
  {
   "cell_type": "code",
   "execution_count": null,
   "metadata": {},
   "outputs": [],
   "source": [
    "import json\n",
    "import holoviews\n",
    "from holoviews import opts, Cycle\n",
    "holoviews.extension('bokeh')\n",
    "\n",
    "# User can modify location of g2statpack input\n",
    "data_filename = \"/data/g2statpack.json\"\n",
    "\n",
    "# Load data\n",
    "with open(data_filename) as data_file:\n",
    "    data = json.load(data_file)\n",
    "    \n",
    "# Set height and width of Distribution graph.\n",
    "opts.defaults(opts.Distribution(width=900, height=200))    "
   ]
  },
  {
   "cell_type": "markdown",
   "metadata": {},
   "source": [
    "### Distribution of ENTITY_SIZE_BREAKDOWN.ENTITY_COUNT values"
   ]
  },
  {
   "cell_type": "code",
   "execution_count": null,
   "metadata": {},
   "outputs": [],
   "source": [
    "# Note: uses python \"list comprehension\" to pull data.\n",
    "\n",
    "entity_counts = [i.get(\"ENTITY_COUNT\", 0) for i in data.get(\"ENTITY_SIZE_BREAKDOWN\", [])]\n",
    "holoviews.Distribution(entity_counts)"
   ]
  },
  {
   "cell_type": "markdown",
   "metadata": {},
   "source": [
    "### Distribution of ENTITY_SIZE_BREAKDOWN.ENTITY_SIZE values"
   ]
  },
  {
   "cell_type": "code",
   "execution_count": null,
   "metadata": {},
   "outputs": [],
   "source": [
    "entity_size = [i.get(\"ENTITY_SIZE\", 0) for i in data.get(\"ENTITY_SIZE_BREAKDOWN\", [])]\n",
    "holoviews.Distribution(entity_size)"
   ]
  },
  {
   "cell_type": "markdown",
   "metadata": {},
   "source": [
    "### Distribution of ENTITY_SIZE_BREAKDOWN.FEATURE_STATISTICS.PRINCIPAL_OF values"
   ]
  },
  {
   "cell_type": "code",
   "execution_count": null,
   "metadata": {},
   "outputs": [],
   "source": [
    "principle_of = [i.get(\"FEATURE_STATISTICS\", {}).get(\"PRINCIPAL_OF\", 0) for i in data.get(\"ENTITY_SIZE_BREAKDOWN\", [])]\n",
    "holoviews.Distribution(principle_of)"
   ]
  },
  {
   "cell_type": "code",
   "execution_count": null,
   "metadata": {},
   "outputs": [],
   "source": [
    "from IPython.display import HTML\n",
    "\n",
    "HTML('''<script>\n",
    "code_show=true;\n",
    "function code_toggle() {\n",
    "  if (code_show){\n",
    "    $('div.input').hide();\n",
    "    document.getElementById(\"codeVisibility\").value=\"Show code\";\n",
    "  } else {\n",
    "    $('div.input').show();\n",
    "    document.getElementById(\"codeVisibility\").value=\"Hide code\";\n",
    "  }\n",
    " code_show = !code_show\n",
    "}\n",
    "$( document ).ready(code_toggle);\n",
    "</script>\n",
    "<form action=\"javascript:code_toggle()\"><input id=\"codeVisibility\" type=\"submit\" value=\"Code visibility\"></form>''')"
   ]
  }
 ],
 "metadata": {
  "kernelspec": {
   "display_name": "Python 2",
   "language": "python",
   "name": "python2"
  },
  "language_info": {
   "codemirror_mode": {
    "name": "ipython",
    "version": 2
   },
   "file_extension": ".py",
   "mimetype": "text/x-python",
   "name": "python",
   "nbconvert_exporter": "python",
   "pygments_lexer": "ipython2",
   "version": "2.7.15"
  }
 },
 "nbformat": 4,
 "nbformat_minor": 2
}

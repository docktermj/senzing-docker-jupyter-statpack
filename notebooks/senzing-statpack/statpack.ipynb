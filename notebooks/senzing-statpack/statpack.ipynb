{
 "cells": [
  {
   "cell_type": "markdown",
   "metadata": {},
   "source": [
    "# StatPack distributions\n",
    "\n",
    "In this notebook..."
   ]
  },
  {
   "cell_type": "code",
   "execution_count": null,
   "metadata": {},
   "outputs": [],
   "source": [
    "import json\n",
    "import numpy\n",
    "import holoviews\n",
    "from holoviews import opts, Cycle\n",
    "\n",
    "import matplotlib.ticker as ticker\n",
    "import matplotlib.cm as cm\n",
    "import matplotlib as mpl\n",
    "from matplotlib.gridspec import GridSpec\n",
    "\n",
    "import matplotlib.pyplot as plt\n",
    "%matplotlib inline\n",
    "\n",
    "holoviews.extension('bokeh')\n",
    "\n",
    "# User can modify location of g2statpack input\n",
    "data_filename = \"/data/g2statpack.json\"\n",
    "\n",
    "# Load data\n",
    "with open(data_filename) as data_file:\n",
    "    data = json.load(data_file)\n",
    "    \n",
    "# Set height and width of Distribution graph.\n",
    "opts.defaults(opts.Distribution(width=900, height=200))    "
   ]
  },
  {
   "cell_type": "markdown",
   "metadata": {},
   "source": [
    "### Distribution of ENTITY_SIZE_BREAKDOWN.ENTITY_COUNT values"
   ]
  },
  {
   "cell_type": "code",
   "execution_count": null,
   "metadata": {},
   "outputs": [],
   "source": [
    "# Note: uses python \"list comprehension\" to pull data.\n",
    "\n",
    "entity_counts = [i.get(\"ENTITY_COUNT\", 0) for i in data.get(\"ENTITY_SIZE_BREAKDOWN\", [])]\n",
    "holoviews.Distribution(entity_counts)"
   ]
  },
  {
   "cell_type": "markdown",
   "metadata": {},
   "source": [
    "### Distribution of ENTITY_SIZE_BREAKDOWN.ENTITY_SIZE values"
   ]
  },
  {
   "cell_type": "code",
   "execution_count": null,
   "metadata": {},
   "outputs": [],
   "source": [
    "entity_size = [i.get(\"ENTITY_SIZE\", 0) for i in data.get(\"ENTITY_SIZE_BREAKDOWN\", [])]\n",
    "holoviews.Distribution(entity_size)"
   ]
  },
  {
   "cell_type": "markdown",
   "metadata": {},
   "source": [
    "### Distribution of ENTITY_SIZE_BREAKDOWN.FEATURE_STATISTICS.PRINCIPAL_OF values"
   ]
  },
  {
   "cell_type": "code",
   "execution_count": null,
   "metadata": {},
   "outputs": [],
   "source": [
    "principle_of = [i.get(\"FEATURE_STATISTICS\", {}).get(\"PRINCIPAL_OF\", 0) for i in data.get(\"ENTITY_SIZE_BREAKDOWN\", [])]\n",
    "holoviews.Distribution(principle_of)"
   ]
  },
  {
   "cell_type": "markdown",
   "metadata": {},
   "source": [
    "### Data sources\n",
    "\n",
    "The following pie charts show..."
   ]
  },
  {
   "cell_type": "code",
   "execution_count": null,
   "metadata": {},
   "outputs": [],
   "source": [
    "# Loop through \"DATA_SOURCES\".\n",
    "data_sources = data.get(\"DATA_SOURCES\", {})\n",
    "for data_source_name, data_source in data_sources.items():\n",
    "\n",
    "    # Pull data for data source, safely.\n",
    "    record_count = data_source.get(\"RECORD_COUNT\", 0)\n",
    "    duplicate_count = data_source.get(\"DUPLICATE_COUNT\", 0)\n",
    "    possible_match_count = data_source.get(\"POSSIBLE_MATCH_COUNT\", 0)\n",
    "    possibly_related_count = data_source.get(\"POSSIBLY_RELATED_COUNT\", 0)\n",
    "    single_count = data_source.get(\"SINGLE_COUNT\", 0)\n",
    "\n",
    "    # Pie chart configuration.\n",
    "    plt.figure(1, figsize=(20,10))\n",
    "    the_grid = GridSpec(2, 3)\n",
    "    cmap = plt.get_cmap('Spectral')\n",
    "    colors = [cmap(i) for i in numpy.linspace(0, 1, 8)]\n",
    "\n",
    "    # Create \"Duplication\" pie chart.\n",
    "    plt.subplot(the_grid[0, 0], aspect=1, title='Duplication')\n",
    "    counts=[record_count-duplicate_count, duplicate_count]\n",
    "    labels=[\"Unique\", \"Duplicate\"]\n",
    "    plt.pie(counts, labels=labels, autopct='%1.1f%%', shadow=True, colors=colors)\n",
    "\n",
    "    # Create \"Match\" pie chart.\n",
    "    plt.subplot(the_grid[0, 1], aspect=1, title='Match')\n",
    "    counts=[record_count-duplicate_count-possible_match_count, possible_match_count]\n",
    "    labels=[\"Non-match\", \"Match\"]\n",
    "    plt.pie(counts, labels=labels, autopct='%1.1f%%', shadow=True, colors=colors)\n",
    "\n",
    "\n",
    "    # Create \"Possibly related\" pie chart.\n",
    "    plt.subplot(the_grid[0, 2], aspect=1, title='Possibly related')\n",
    "    counts=[record_count-duplicate_count-possibly_related_count, possibly_related_count]\n",
    "    labels=[\"Not related\", \"Possibly related\"]\n",
    "    plt.pie(counts, labels=labels, autopct='%1.1f%%', shadow=True, colors=colors)\n",
    "    \n",
    "    # Plot header\n",
    "    plt.suptitle(\"'{0}' data source\".format(data_source_name), fontsize=16)\n",
    "    \n",
    "    # Show the plot\n",
    "    plt.show()"
   ]
  },
  {
   "cell_type": "code",
   "execution_count": null,
   "metadata": {},
   "outputs": [],
   "source": [
    "from IPython.display import HTML\n",
    "\n",
    "HTML('''<script>\n",
    "code_show=false;\n",
    "function code_toggle() {\n",
    "  if (code_show){\n",
    "    $('div.input').hide();\n",
    "    document.getElementById(\"codeVisibility\").value=\"Show code\";\n",
    "  } else {\n",
    "    $('div.input').show();\n",
    "    document.getElementById(\"codeVisibility\").value=\"Hide code\";\n",
    "  }\n",
    " code_show = !code_show\n",
    "}\n",
    "$( document ).ready(code_toggle);\n",
    "</script>\n",
    "<form action=\"javascript:code_toggle()\"><input id=\"codeVisibility\" type=\"submit\" value=\"Code visibility\"></form>''')"
   ]
  }
 ],
 "metadata": {
  "kernelspec": {
   "display_name": "Python 2",
   "language": "python",
   "name": "python2"
  },
  "language_info": {
   "codemirror_mode": {
    "name": "ipython",
    "version": 2
   },
   "file_extension": ".py",
   "mimetype": "text/x-python",
   "name": "python",
   "nbconvert_exporter": "python",
   "pygments_lexer": "ipython2",
   "version": "2.7.15"
  }
 },
 "nbformat": 4,
 "nbformat_minor": 2
}
